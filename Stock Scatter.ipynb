{
 "cells": [
  {
   "cell_type": "code",
   "execution_count": 1,
   "id": "d494e586",
   "metadata": {},
   "outputs": [],
   "source": [
    "# Import necessary libraries\n",
    "import numpy as np\n",
    "import pandas as pd\n",
    "import matplotlib.pyplot as plt\n",
    "import yfinance as yf\n",
    "from sklearn.preprocessing import MinMaxScaler\n",
    "from tensorflow.keras.models import Sequential\n",
    "from tensorflow.keras.layers import LSTM, Dense\n"
   ]
  },
  {
   "cell_type": "code",
   "execution_count": 2,
   "id": "172cd88c",
   "metadata": {},
   "outputs": [],
   "source": [
    "# Define the stock symbol and time period\n",
    "stock_symbol = \"AAPL\"\n",
    "start_date = \"2020-01-01\"\n",
    "end_date = \"2021-01-01\""
   ]
  },
  {
   "cell_type": "code",
   "execution_count": 3,
   "id": "c582f4b5",
   "metadata": {},
   "outputs": [],
   "source": [
    "\n",
    "# Fetch historical stock data using yfinance\n",
    "stock_data = yf.download(stock_symbol, start=start_date, end=end_date, progress=False)\n",
    "\n",
    "# Extract the closing prices\n",
    "closing_prices = stock_data['Close'].values.reshape(-1, 1)\n"
   ]
  },
  {
   "cell_type": "code",
   "execution_count": 4,
   "id": "b8a093a7",
   "metadata": {},
   "outputs": [],
   "source": [
    "# Normalize the data\n",
    "scaler = MinMaxScaler()\n",
    "scaled_prices = scaler.fit_transform(closing_prices)"
   ]
  },
  {
   "cell_type": "code",
   "execution_count": 5,
   "id": "18a861da",
   "metadata": {},
   "outputs": [],
   "source": [
    "# Split data into train and test sets\n",
    "train_size = int(len(scaled_prices) * 0.8)\n",
    "train_data = scaled_prices[:train_size]\n",
    "test_data = scaled_prices[train_size:]"
   ]
  },
  {
   "cell_type": "code",
   "execution_count": 6,
   "id": "81914042",
   "metadata": {},
   "outputs": [],
   "source": [
    "# Create sequences for LSTM training\n",
    "def create_sequences(data, sequence_length):\n",
    "    sequences = []\n",
    "    for i in range(len(data) - sequence_length):\n",
    "        seq = data[i:i+sequence_length]\n",
    "        sequences.append(seq)\n",
    "    return np.array(sequences)\n",
    "\n",
    "sequence_length = 10\n",
    "X_train = create_sequences(train_data, sequence_length)\n",
    "y_train = train_data[sequence_length:]\n"
   ]
  },
  {
   "cell_type": "code",
   "execution_count": 7,
   "id": "4755671e",
   "metadata": {},
   "outputs": [
    {
     "name": "stdout",
     "output_type": "stream",
     "text": [
      "Epoch 1/50\n",
      "12/12 [==============================] - 4s 22ms/step - loss: 0.1341\n",
      "Epoch 2/50\n",
      "12/12 [==============================] - 0s 12ms/step - loss: 0.0558\n",
      "Epoch 3/50\n",
      "12/12 [==============================] - 0s 11ms/step - loss: 0.0114\n",
      "Epoch 4/50\n",
      "12/12 [==============================] - 0s 12ms/step - loss: 0.0083\n",
      "Epoch 5/50\n",
      "12/12 [==============================] - 0s 12ms/step - loss: 0.0052\n",
      "Epoch 6/50\n",
      "12/12 [==============================] - 0s 12ms/step - loss: 0.0034\n",
      "Epoch 7/50\n",
      "12/12 [==============================] - 0s 16ms/step - loss: 0.0034\n",
      "Epoch 8/50\n",
      "12/12 [==============================] - 0s 8ms/step - loss: 0.0028\n",
      "Epoch 9/50\n",
      "12/12 [==============================] - 0s 8ms/step - loss: 0.0028\n",
      "Epoch 10/50\n",
      "12/12 [==============================] - 0s 8ms/step - loss: 0.0028\n",
      "Epoch 11/50\n",
      "12/12 [==============================] - 0s 8ms/step - loss: 0.0027\n",
      "Epoch 12/50\n",
      "12/12 [==============================] - 0s 8ms/step - loss: 0.0027\n",
      "Epoch 13/50\n",
      "12/12 [==============================] - 0s 7ms/step - loss: 0.0026\n",
      "Epoch 14/50\n",
      "12/12 [==============================] - 0s 7ms/step - loss: 0.0026\n",
      "Epoch 15/50\n",
      "12/12 [==============================] - 0s 7ms/step - loss: 0.0026\n",
      "Epoch 16/50\n",
      "12/12 [==============================] - 0s 7ms/step - loss: 0.0025\n",
      "Epoch 17/50\n",
      "12/12 [==============================] - 0s 8ms/step - loss: 0.0029\n",
      "Epoch 18/50\n",
      "12/12 [==============================] - 0s 10ms/step - loss: 0.0025\n",
      "Epoch 19/50\n",
      "12/12 [==============================] - 0s 11ms/step - loss: 0.0026\n",
      "Epoch 20/50\n",
      "12/12 [==============================] - 0s 7ms/step - loss: 0.0027\n",
      "Epoch 21/50\n",
      "12/12 [==============================] - 0s 8ms/step - loss: 0.0023\n",
      "Epoch 22/50\n",
      "12/12 [==============================] - 0s 10ms/step - loss: 0.0022\n",
      "Epoch 23/50\n",
      "12/12 [==============================] - 0s 11ms/step - loss: 0.0022\n",
      "Epoch 24/50\n",
      "12/12 [==============================] - 0s 7ms/step - loss: 0.0021\n",
      "Epoch 25/50\n",
      "12/12 [==============================] - 0s 8ms/step - loss: 0.0021\n",
      "Epoch 26/50\n",
      "12/12 [==============================] - 0s 8ms/step - loss: 0.0020\n",
      "Epoch 27/50\n",
      "12/12 [==============================] - 0s 8ms/step - loss: 0.0020\n",
      "Epoch 28/50\n",
      "12/12 [==============================] - 0s 9ms/step - loss: 0.0021\n",
      "Epoch 29/50\n",
      "12/12 [==============================] - 0s 23ms/step - loss: 0.0023\n",
      "Epoch 30/50\n",
      "12/12 [==============================] - 0s 15ms/step - loss: 0.0022\n",
      "Epoch 31/50\n",
      "12/12 [==============================] - 0s 11ms/step - loss: 0.0023\n",
      "Epoch 32/50\n",
      "12/12 [==============================] - 0s 8ms/step - loss: 0.0020\n",
      "Epoch 33/50\n",
      "12/12 [==============================] - 0s 8ms/step - loss: 0.0020\n",
      "Epoch 34/50\n",
      "12/12 [==============================] - 0s 14ms/step - loss: 0.0018\n",
      "Epoch 35/50\n",
      "12/12 [==============================] - 0s 16ms/step - loss: 0.0018\n",
      "Epoch 36/50\n",
      "12/12 [==============================] - 0s 24ms/step - loss: 0.0018\n",
      "Epoch 37/50\n",
      "12/12 [==============================] - 0s 16ms/step - loss: 0.0018\n",
      "Epoch 38/50\n",
      "12/12 [==============================] - 0s 21ms/step - loss: 0.0017\n",
      "Epoch 39/50\n",
      "12/12 [==============================] - 0s 18ms/step - loss: 0.0017\n",
      "Epoch 40/50\n",
      "12/12 [==============================] - 0s 16ms/step - loss: 0.0017\n",
      "Epoch 41/50\n",
      "12/12 [==============================] - 0s 14ms/step - loss: 0.0018\n",
      "Epoch 42/50\n",
      "12/12 [==============================] - 0s 19ms/step - loss: 0.0017\n",
      "Epoch 43/50\n",
      "12/12 [==============================] - 0s 20ms/step - loss: 0.0019\n",
      "Epoch 44/50\n",
      "12/12 [==============================] - 0s 24ms/step - loss: 0.0018\n",
      "Epoch 45/50\n",
      "12/12 [==============================] - 0s 23ms/step - loss: 0.0017\n",
      "Epoch 46/50\n",
      "12/12 [==============================] - 0s 25ms/step - loss: 0.0017\n",
      "Epoch 47/50\n",
      "12/12 [==============================] - 0s 19ms/step - loss: 0.0016\n",
      "Epoch 48/50\n",
      "12/12 [==============================] - 0s 16ms/step - loss: 0.0016\n",
      "Epoch 49/50\n",
      "12/12 [==============================] - 0s 14ms/step - loss: 0.0016\n",
      "Epoch 50/50\n",
      "12/12 [==============================] - 0s 14ms/step - loss: 0.0018\n"
     ]
    },
    {
     "data": {
      "text/plain": [
       "<keras.src.callbacks.History at 0x20c9be6b010>"
      ]
     },
     "execution_count": 7,
     "metadata": {},
     "output_type": "execute_result"
    }
   ],
   "source": [
    "# Build and train the LSTM model\n",
    "model = Sequential()\n",
    "model.add(LSTM(50, activation='relu', input_shape=(sequence_length, 1)))\n",
    "model.add(Dense(1))\n",
    "model.compile(optimizer='adam', loss='mean_squared_error')\n",
    "model.fit(X_train, y_train, epochs=50, batch_size=16)"
   ]
  },
  {
   "cell_type": "code",
   "execution_count": 8,
   "id": "b1a290c6",
   "metadata": {},
   "outputs": [
    {
     "name": "stdout",
     "output_type": "stream",
     "text": [
      "2/2 [==============================] - 1s 8ms/step\n"
     ]
    }
   ],
   "source": [
    "# Prepare test data for prediction\n",
    "X_test = create_sequences(test_data, sequence_length)\n",
    "\n",
    "# Make predictions\n",
    "predicted_prices = model.predict(X_test)"
   ]
  },
  {
   "cell_type": "code",
   "execution_count": 9,
   "id": "b92371f2",
   "metadata": {},
   "outputs": [],
   "source": [
    "# Inverse transform to get the actual stock prices\n",
    "predicted_prices = scaler.inverse_transform(predicted_prices)\n",
    "actual_prices = scaler.inverse_transform(test_data[sequence_length:])\n"
   ]
  },
  {
   "cell_type": "code",
   "execution_count": 10,
   "id": "4ec28644",
   "metadata": {},
   "outputs": [
    {
     "data": {
      "image/png": "[encoded data removed]",
      "text/plain": [
       "<Figure size 1000x600 with 1 Axes>"
      ]
     },
     "metadata": {},
     "output_type": "display_data"
    }
   ],
   "source": [
    "# Plot actual vs predicted prices using a scatter plot\n",
    "plt.figure(figsize=(10, 6))\n",
    "plt.scatter(actual_prices, predicted_prices, color='blue', label='Predicted')\n",
    "plt.plot(actual_prices, actual_prices, color='red', label='Actual')\n",
    "plt.xlabel('Actual Price')\n",
    "plt.ylabel('Predicted Price')\n",
    "plt.title('Actual vs Predicted Stock Prices')\n",
    "plt.legend()\n",
    "plt.show()"
   ]
  },
  {
   "cell_type": "code",
   "execution_count": null,
   "id": "18429a80",
   "metadata": {},
   "outputs": [],
   "source": []
  }
 ],
 "metadata": {
  "kernelspec": {
   "display_name": "Python 3 (ipykernel)",
   "language": "python",
   "name": "python3"
  },
  "language_info": {
   "codemirror_mode": {
    "name": "ipython",
    "version": 3
   },
   "file_extension": ".py",
   "mimetype": "text/x-python",
   "name": "python",
   "nbconvert_exporter": "python",
   "pygments_lexer": "ipython3",
   "version": "3.10.9"
  }
 },
 "nbformat": 4,
 "nbformat_minor": 5
}
